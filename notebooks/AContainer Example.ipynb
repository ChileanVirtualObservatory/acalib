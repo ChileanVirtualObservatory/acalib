{
 "cells": [
  {
   "cell_type": "markdown",
   "metadata": {},
   "source": [
    "# AContainer Example"
   ]
  },
  {
   "cell_type": "markdown",
   "metadata": {},
   "source": [
    "This notebook is an example of the use of the AContainer class.\n",
    "\n",
    "## 1. Importing ACALib core"
   ]
  },
  {
   "cell_type": "code",
   "execution_count": 1,
   "metadata": {
    "collapsed": false
   },
   "outputs": [],
   "source": [
    "import sys\n",
    "sys.path.append('../')\n",
    "\n",
    "from acalib.core import *\n",
    "from os import walk\n",
    "from astropy import log\n"
   ]
  },
  {
   "cell_type": "markdown",
   "metadata": {},
   "source": [
    "##  2. Reading several files "
   ]
  },
  {
   "cell_type": "code",
   "execution_count": 2,
   "metadata": {
    "collapsed": false
   },
   "outputs": [
    {
     "name": "stdout",
     "output_type": "stream",
     "text": [
      "../../bindata/fits/images/M100cont.image.fits\n",
      "INFO: Loading ../../bindata/fits/images/M100cont.image.fits [unknown]\n",
      "INFO: Processing HDU 0 (Image) [acalib.io.formats]\n",
      "INFO: 4D data detected: assuming RA-DEC-FREQ-STOKES (like CASA-generated ones), and dropping STOKES [acalib.io.formats]\n",
      "../../bindata/fits/images/M100-CO.mom1.fits\n",
      "INFO: Loading ../../bindata/fits/images/M100-CO.mom1.fits [unknown]\n",
      "INFO: Processing HDU 0 (Image) [acalib.io.formats]\n",
      "INFO: 4D data detected: assuming RA-DEC-FREQ-STOKES (like CASA-generated ones), and dropping STOKES [acalib.io.formats]\n",
      "../../bindata/fits/images/M100-CO.mom0.fits\n",
      "INFO: Loading ../../bindata/fits/images/M100-CO.mom0.fits [unknown]\n",
      "INFO: Processing HDU 0 (Image) [acalib.io.formats]\n"
     ]
    },
    {
     "name": "stderr",
     "output_type": "stream",
     "text": [
      "WARNING: FITSFixedWarning: PC001001= 1.000000000000E+00 \n",
      "this form of the PCi_ja keyword is deprecated, use PCi_ja. [astropy.wcs.wcs]\n",
      "WARNING: FITSFixedWarning: PC002001= 0.000000000000E+00 \n",
      "this form of the PCi_ja keyword is deprecated, use PCi_ja. [astropy.wcs.wcs]\n",
      "WARNING: FITSFixedWarning: PC003001= 0.000000000000E+00 \n",
      "this form of the PCi_ja keyword is deprecated, use PCi_ja. [astropy.wcs.wcs]\n",
      "WARNING: FITSFixedWarning: PC004001= 0.000000000000E+00 \n",
      "this form of the PCi_ja keyword is deprecated, use PCi_ja. [astropy.wcs.wcs]\n",
      "WARNING: FITSFixedWarning: PC001002= 0.000000000000E+00 \n",
      "this form of the PCi_ja keyword is deprecated, use PCi_ja. [astropy.wcs.wcs]\n",
      "WARNING: FITSFixedWarning: PC002002= 1.000000000000E+00 \n",
      "this form of the PCi_ja keyword is deprecated, use PCi_ja. [astropy.wcs.wcs]\n",
      "WARNING: FITSFixedWarning: PC003002= 0.000000000000E+00 \n",
      "this form of the PCi_ja keyword is deprecated, use PCi_ja. [astropy.wcs.wcs]\n",
      "WARNING: FITSFixedWarning: PC004002= 0.000000000000E+00 \n",
      "this form of the PCi_ja keyword is deprecated, use PCi_ja. [astropy.wcs.wcs]\n",
      "WARNING: FITSFixedWarning: PC001003= 0.000000000000E+00 \n",
      "this form of the PCi_ja keyword is deprecated, use PCi_ja. [astropy.wcs.wcs]\n",
      "WARNING: FITSFixedWarning: PC002003= 0.000000000000E+00 \n",
      "this form of the PCi_ja keyword is deprecated, use PCi_ja. [astropy.wcs.wcs]\n",
      "WARNING: FITSFixedWarning: PC003003= 1.000000000000E+00 \n",
      "this form of the PCi_ja keyword is deprecated, use PCi_ja. [astropy.wcs.wcs]\n",
      "WARNING: FITSFixedWarning: PC004003= 0.000000000000E+00 \n",
      "this form of the PCi_ja keyword is deprecated, use PCi_ja. [astropy.wcs.wcs]\n",
      "WARNING: FITSFixedWarning: PC001004= 0.000000000000E+00 \n",
      "this form of the PCi_ja keyword is deprecated, use PCi_ja. [astropy.wcs.wcs]\n",
      "WARNING: FITSFixedWarning: PC002004= 0.000000000000E+00 \n",
      "this form of the PCi_ja keyword is deprecated, use PCi_ja. [astropy.wcs.wcs]\n",
      "WARNING: FITSFixedWarning: PC003004= 0.000000000000E+00 \n",
      "this form of the PCi_ja keyword is deprecated, use PCi_ja. [astropy.wcs.wcs]\n",
      "WARNING: FITSFixedWarning: PC004004= 1.000000000000E+00 \n",
      "this form of the PCi_ja keyword is deprecated, use PCi_ja. [astropy.wcs.wcs]\n",
      "WARNING: UnitsWarning: 'Jy/beam.km/s' contains multiple slashes, which is discouraged by the FITS standard [astropy.units.format.generic]\n"
     ]
    },
    {
     "name": "stdout",
     "output_type": "stream",
     "text": [
      "INFO: 4D data detected: assuming RA-DEC-FREQ-STOKES (like CASA-generated ones), and dropping STOKES [acalib.io.formats]\n",
      "../../bindata/fits/images/NGC6240_continuum.fits\n",
      "INFO: Loading ../../bindata/fits/images/NGC6240_continuum.fits [unknown]\n",
      "INFO: Processing HDU 0 (Image) [acalib.io.formats]\n",
      "INFO: 4D data detected: assuming RA-DEC-FREQ-STOKES (like CASA-generated ones), and dropping STOKES [acalib.io.formats]\n",
      "../../bindata/fits/images/Orion.methanol.mom1.fits\n",
      "INFO: Loading ../../bindata/fits/images/Orion.methanol.mom1.fits [unknown]\n",
      "INFO: Processing HDU 0 (Image) [acalib.io.formats]\n",
      "INFO: 4D data detected: assuming RA-DEC-FREQ-STOKES (like CASA-generated ones), and dropping STOKES [acalib.io.formats]\n",
      "../../bindata/fits/images/Orion.methanol.mom0.fits\n",
      "INFO: Loading ../../bindata/fits/images/Orion.methanol.mom0.fits [unknown]\n",
      "INFO: Processing HDU 0 (Image) [acalib.io.formats]\n",
      "INFO: 4D data detected: assuming RA-DEC-FREQ-STOKES (like CASA-generated ones), and dropping STOKES [acalib.io.formats]\n",
      "../../bindata/fits/images/Boom.cln.fits\n",
      "INFO: Loading ../../bindata/fits/images/Boom.cln.fits [unknown]\n",
      "INFO: Processing HDU 0 (Image) [acalib.io.formats]\n",
      "INFO: 4D data detected: assuming RA-DEC-FREQ-STOKES (like CASA-generated ones), and dropping STOKES [acalib.io.formats]\n",
      "../../bindata/fits/images/Orion.cont.image.fits\n",
      "INFO: Loading ../../bindata/fits/images/Orion.cont.image.fits [unknown]\n",
      "INFO: Processing HDU 0 (Image) [acalib.io.formats]\n",
      "INFO: 4D data detected: assuming RA-DEC-FREQ-STOKES (like CASA-generated ones), and dropping STOKES [acalib.io.formats]\n",
      "../../bindata/fits/cubes/Antennae_South.CO3_2Line.Clean.pcal1.image.fits\n",
      "INFO: Loading ../../bindata/fits/cubes/Antennae_South.CO3_2Line.Clean.pcal1.image.fits [unknown]\n",
      "INFO: Processing HDU 0 (Image) [acalib.io.formats]\n",
      "INFO: 4D data detected: assuming RA-DEC-FREQ-STOKES (like CASA-generated ones), and dropping STOKES [acalib.io.formats]\n",
      "../../bindata/fits/cubes/TWHydra_HCOplusline.image.fits\n",
      "INFO: Loading ../../bindata/fits/cubes/TWHydra_HCOplusline.image.fits [unknown]\n",
      "INFO: Processing HDU 0 (Image) [acalib.io.formats]\n",
      "INFO: 4D data detected: assuming RA-DEC-FREQ-STOKES (like CASA-generated ones), and dropping STOKES [acalib.io.formats]\n",
      "../../bindata/fits/cubes/M100line.image.fits\n",
      "INFO: Loading ../../bindata/fits/cubes/M100line.image.fits [unknown]\n",
      "INFO: Processing HDU 0 (Image) [acalib.io.formats]\n",
      "INFO: 4D data detected: assuming RA-DEC-FREQ-STOKES (like CASA-generated ones), and dropping STOKES [acalib.io.formats]\n",
      "../../bindata/fits/cubes/TWHydra_CO3_2line.image.fits\n",
      "INFO: Loading ../../bindata/fits/cubes/TWHydra_CO3_2line.image.fits [unknown]\n",
      "INFO: Processing HDU 0 (Image) [acalib.io.formats]\n"
     ]
    },
    {
     "name": "stderr",
     "output_type": "stream",
     "text": [
      "WARNING: FITSFixedWarning: 'unitfix' made the change 'Changed units: 'HZ' -> 'Hz''. [astropy.wcs.wcs]\n"
     ]
    },
    {
     "name": "stdout",
     "output_type": "stream",
     "text": [
      "INFO: 4D data detected: assuming RA-DEC-FREQ-STOKES (like CASA-generated ones), and dropping STOKES [acalib.io.formats]\n",
      "../../bindata/fits/cubes/Orion.methanol.cbc.contsub.image.fits\n",
      "INFO: Loading ../../bindata/fits/cubes/Orion.methanol.cbc.contsub.image.fits [unknown]\n",
      "INFO: Processing HDU 0 (Image) [acalib.io.formats]\n",
      "INFO: 4D data detected: assuming RA-DEC-FREQ-STOKES (like CASA-generated ones), and dropping STOKES [acalib.io.formats]\n",
      "../../bindata/fits/cubes/CenA.CO2_1Line.Clean.image.fits\n",
      "INFO: Loading ../../bindata/fits/cubes/CenA.CO2_1Line.Clean.image.fits [unknown]\n",
      "INFO: Processing HDU 0 (Image) [acalib.io.formats]\n",
      "INFO: 4D data detected: assuming RA-DEC-FREQ-STOKES (like CASA-generated ones), and dropping STOKES [acalib.io.formats]\n",
      "../../bindata/fits/cubes/Antennae_North.CO3_2Line.Clean.pcal1.image.fits\n",
      "INFO: Loading ../../bindata/fits/cubes/Antennae_North.CO3_2Line.Clean.pcal1.image.fits [unknown]\n",
      "INFO: Processing HDU 0 (Image) [acalib.io.formats]\n",
      "INFO: 4D data detected: assuming RA-DEC-FREQ-STOKES (like CASA-generated ones), and dropping STOKES [acalib.io.formats]\n",
      "../../bindata/fits/cubes/Boom.cm.cln.fits\n",
      "INFO: Loading ../../bindata/fits/cubes/Boom.cm.cln.fits [unknown]\n",
      "INFO: Processing HDU 0 (Image) [acalib.io.formats]\n",
      "INFO: 4D data detected: assuming RA-DEC-FREQ-STOKES (like CASA-generated ones), and dropping STOKES [acalib.io.formats]\n"
     ]
    }
   ],
   "source": [
    "binpath='../../bindata/fits/'\n",
    "\n",
    "f = []\n",
    "for (dirpath, dirnames, filenames) in walk(binpath):\n",
    "   for filename in filenames:\n",
    "      f.append(dirpath+'/'+filename)\n",
    "cs =[]\n",
    "for fn in filter(lambda x: '.fits' in x, f):\n",
    "   print(fn)\n",
    "   c = AContainer()\n",
    "   c.load(fn)\n",
    "   cs.append(c)"
   ]
  },
  {
   "cell_type": "code",
   "execution_count": 3,
   "metadata": {
    "collapsed": false
   },
   "outputs": [
    {
     "name": "stdout",
     "output_type": "stream",
     "text": [
      "16\n"
     ]
    }
   ],
   "source": [
    "print(len(cs))"
   ]
  }
 ],
 "metadata": {
  "kernelspec": {
   "display_name": "Python [Root]",
   "language": "python",
   "name": "Python [Root]"
  },
  "language_info": {
   "codemirror_mode": {
    "name": "ipython",
    "version": 2
   },
   "file_extension": ".py",
   "mimetype": "text/x-python",
   "name": "python",
   "nbconvert_exporter": "python",
   "pygments_lexer": "ipython2",
   "version": "2.7.12"
  }
 },
 "nbformat": 4,
 "nbformat_minor": 0
}
