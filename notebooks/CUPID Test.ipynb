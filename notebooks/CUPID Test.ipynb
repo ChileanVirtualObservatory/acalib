{
 "cells": [
  {
   "cell_type": "code",
   "execution_count": 21,
   "metadata": {
    "collapsed": false
   },
   "outputs": [],
   "source": [
    "%matplotlib inline\n",
    "\n",
    "import numpy as np\n",
    "import matplotlib.pyplot as plt\n",
    "\n",
    "import sys\n",
    "sys.path.append('../')\n",
    "from acalib import *\n",
    "from acalib.cupid import clumpfind"
   ]
  },
  {
   "cell_type": "markdown",
   "metadata": {},
   "source": [
    "## Loading Data"
   ]
  },
  {
   "cell_type": "code",
   "execution_count": 22,
   "metadata": {
    "collapsed": false
   },
   "outputs": [
    {
     "name": "stdout",
     "output_type": "stream",
     "text": [
      "INFO: Processing HDU 0 (Image) [acalib.io.fits]\n",
      "INFO: 4D data detected: assuming RA-DEC-FREQ-STOKES (like CASA-generated ones), and dropping STOKES [acalib.io.fits]\n"
     ]
    }
   ],
   "source": [
    "binpath = '../../bindata/fits/cubes/'\n",
    "\n",
    "# Data from ALMA science verification \n",
    "orion_path = binpath + 'Orion.methanol.cbc.contsub.image.fits'\n",
    "container = load_fits(orion_path)\n",
    "orion     = container.primary\n",
    "\n",
    "\n",
    "data3D = orion.data.astype(np.float64)\n",
    "rms3D = np.sqrt((data3D*data3D).sum()/data3D.size)\n",
    "\n",
    "data2D = data3D.sum(axis=0)\n",
    "rms2D = np.sqrt((data2D*data2D).sum()/data2D.size)"
   ]
  },
  {
   "cell_type": "markdown",
   "metadata": {},
   "source": [
    "## Applying pycupid's clumpfind"
   ]
  },
  {
   "cell_type": "code",
   "execution_count": 23,
   "metadata": {
    "collapsed": false
   },
   "outputs": [
    {
     "name": "stdout",
     "output_type": "stream",
     "text": [
      "-1\n",
      "2\n",
      "10000\n"
     ]
    }
   ],
   "source": [
    "res2D = clumpfind(data2D, dict(), rms2D)\n",
    "print res2D.min()\n",
    "print res2D.max()\n",
    "print res2D.size"
   ]
  },
  {
   "cell_type": "code",
   "execution_count": 24,
   "metadata": {
    "collapsed": false
   },
   "outputs": [
    {
     "data": {
      "image/png": "[encoded data removed]",
      "text/plain": [
       "<matplotlib.figure.Figure at 0x120287050>"
      ]
     },
     "metadata": {},
     "output_type": "display_data"
    }
   ],
   "source": [
    "plt.imshow(res2D)\n",
    "plt.show()"
   ]
  },
  {
   "cell_type": "code",
   "execution_count": 25,
   "metadata": {
    "collapsed": false
   },
   "outputs": [
    {
     "name": "stdout",
     "output_type": "stream",
     "text": [
      "-1\n",
      "24\n",
      "410000\n"
     ]
    }
   ],
   "source": [
    "res3D = clumpfind(data3D, dict(), rms3D)\n",
    "print res3D.min()\n",
    "print res3D.max()\n",
    "print res3D.size"
   ]
  },
  {
   "cell_type": "code",
   "execution_count": null,
   "metadata": {
    "collapsed": true
   },
   "outputs": [],
   "source": []
  }
 ],
 "metadata": {
  "kernelspec": {
   "display_name": "Python [Root]",
   "language": "python",
   "name": "Python [Root]"
  },
  "language_info": {
   "codemirror_mode": {
    "name": "ipython",
    "version": 2
   },
   "file_extension": ".py",
   "mimetype": "text/x-python",
   "name": "python",
   "nbconvert_exporter": "python",
   "pygments_lexer": "ipython2",
   "version": "2.7.12"
  }
 },
 "nbformat": 4,
 "nbformat_minor": 0
}
