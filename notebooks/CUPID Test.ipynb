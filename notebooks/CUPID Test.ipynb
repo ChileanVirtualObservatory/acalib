{
 "cells": [
  {
   "cell_type": "code",
   "execution_count": 9,
   "metadata": {
    "collapsed": false
   },
   "outputs": [],
   "source": [
    "%matplotlib inline\n",
    "\n",
    "import numpy as np\n",
    "import matplotlib.pyplot as plt\n",
    "\n",
    "import sys\n",
    "sys.path.append('../')\n",
    "from acalib import *\n",
    "from acalib.io.graph import *"
   ]
  },
  {
   "cell_type": "markdown",
   "metadata": {},
   "source": [
    "## Loading Data"
   ]
  },
  {
   "cell_type": "code",
   "execution_count": 5,
   "metadata": {
    "collapsed": false
   },
   "outputs": [
    {
     "name": "stdout",
     "output_type": "stream",
     "text": [
      "INFO: Processing HDU 0 (Image) [acalib.io.fits]\n",
      "INFO: 4D data detected: assuming RA-DEC-FREQ-STOKES (like CASA-generated ones), and dropping STOKES [acalib.io.fits]\n"
     ]
    }
   ],
   "source": [
    "binpath = '../../bindata/fits/cubes/'\n",
    "\n",
    "# Data from ALMA science verification \n",
    "orion_path = binpath + 'Orion.methanol.cbc.contsub.image.fits'\n",
    "container = load_fits(orion_path)\n",
    "orion     = container.primary\n",
    "\n",
    "\n",
    "data3D = orion.data.astype(np.float64)\n",
    "rms3D = np.sqrt((data3D*data3D).sum()/data3D.size)\n",
    "\n",
    "data2D = data3D.sum(axis=0)\n",
    "rms2D = np.sqrt((data2D*data2D).sum()/data2D.size)"
   ]
  },
  {
   "cell_type": "markdown",
   "metadata": {},
   "source": [
    "## Applying pycupid's clumpfind"
   ]
  },
  {
   "cell_type": "code",
   "execution_count": 10,
   "metadata": {
    "collapsed": false
   },
   "outputs": [],
   "source": [
    "res2D = algorithms.clumpfind(data2D, rms=rms2D)"
   ]
  },
  {
   "cell_type": "code",
   "execution_count": 11,
   "metadata": {
    "collapsed": false
   },
   "outputs": [
    {
     "data": {
      "image/png": "[encoded data removed]",
      "text/plain": [
       "<matplotlib.figure.Figure at 0x7f0e3f708750>"
      ]
     },
     "metadata": {},
     "output_type": "display_data"
    }
   ],
   "source": [
    "plt.imshow(res2D.data)\n",
    "plt.show()"
   ]
  },
  {
   "cell_type": "code",
   "execution_count": 13,
   "metadata": {
    "collapsed": false
   },
   "outputs": [
    {
     "name": "stderr",
     "output_type": "stream",
     "text": [
      "/home/martin/miniconda2/lib/python2.7/site-packages/traits/has_traits.py:1541: FutureWarning: comparison to `None` will result in an elementwise object comparison in the future.\n",
      "  setattr( self, name, value )\n"
     ]
    }
   ],
   "source": [
    "res3D = algorithms.clumpfind(orion, rms=estimate_rms(orion))\n",
    "visualize(res3D)"
   ]
  }
 ],
 "metadata": {
  "kernelspec": {
   "display_name": "Python 2",
   "language": "python",
   "name": "python2"
  },
  "language_info": {
   "codemirror_mode": {
    "name": "ipython",
    "version": 2
   },
   "file_extension": ".py",
   "mimetype": "text/x-python",
   "name": "python",
   "nbconvert_exporter": "python",
   "pygments_lexer": "ipython2",
   "version": "2.7.12"
  }
 },
 "nbformat": 4,
 "nbformat_minor": 0
}
