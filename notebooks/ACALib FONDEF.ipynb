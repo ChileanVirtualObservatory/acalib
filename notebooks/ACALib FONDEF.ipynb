{
 "cells": [
  {
   "cell_type": "markdown",
   "metadata": {
    "slideshow": {
     "slide_type": "slide"
    }
   },
   "source": [
    "\n",
    "<center>\n",
    "\n",
    "\n",
    "\n",
    "<h1> ADVANCED COMPUTING FOR ASTRONOMY LIBRARY (ACALib) </h1>\n",
    "\n",
    "\n",
    "<b>Mauricio Araya, Martín Villanueva, Camilo Valenzuela, Axel Simonsen, Marcelo Jara, Teodoro Hochfarber, Manuel Sanchez, Gonzalo Moya.</b>\n",
    "\n",
    "<img src=\"logoCHIVO-h260.png\" />\n",
    "\n",
    "</center>\n",
    "\n",
    "# Repository Contributors\n",
    "\n",
    "<img src=\"contrib.png\"/>\n",
    "\n",
    "\n",
    "\n"
   ]
  },
  {
   "cell_type": "markdown",
   "metadata": {
    "slideshow": {
     "slide_type": "slide"
    }
   },
   "source": [
    "# What is ACALib\n",
    "\n",
    "\n",
    "## Facts:\n",
    "* A ChiVO library written in Python <img src=\"python.png\" width=200px />\n",
    "* Uses the results of the research of past FONDEF and ICHAA projects <img src=\"fondef.png\" width=200px />\n",
    "* Focuses on *simple use of advanced computing* for astronomy <img src=\"acomp.jpg\" width=200px />\n",
    "\n",
    "## With *advanced computing* we refer to:\n",
    "* Modern and algorithmically efficient astronomical algorithms\n",
    "* VO-compatible in terms of data access and application layers,\n",
    "* Parallel support for high-performance computing (e.g., MPI).\n",
    "\n",
    "\n"
   ]
  },
  {
   "cell_type": "markdown",
   "metadata": {
    "slideshow": {
     "slide_type": "slide"
    }
   },
   "source": [
    "## Loading the library\n",
    "\n",
    "**Goal:** Only one import "
   ]
  },
  {
   "cell_type": "code",
   "execution_count": 1,
   "metadata": {
    "collapsed": false,
    "slideshow": {
     "slide_type": "slide"
    }
   },
   "outputs": [
    {
     "ename": "SyntaxError",
     "evalue": "invalid syntax (container.py, line 16)",
     "output_type": "error",
     "traceback": [
      "\u001b[0;36m  File \u001b[0;32m\"../acalib/core/container.py\"\u001b[0;36m, line \u001b[0;32m16\u001b[0m\n\u001b[0;31m    <<<<<<< HEAD\u001b[0m\n\u001b[0m     ^\u001b[0m\n\u001b[0;31mSyntaxError\u001b[0m\u001b[0;31m:\u001b[0m invalid syntax\n"
     ]
    }
   ],
   "source": [
    "%matplotlib inline\n",
    "import sys\n",
    "sys.path.append('../')\n",
    "\n",
    "from acalib import *\n"
   ]
  },
  {
   "cell_type": "markdown",
   "metadata": {},
   "source": [
    "# Data in ACALib\n",
    "\n",
    "**Goal:** Magical data loading\n",
    "* FITS (yes) \n",
    "* VoTable (partially)\n",
    "* MS (not yet)\n",
    "* HDF5 (not yet)\n",
    "* ASDF, ASDM? \n",
    "\n",
    "## Astronomy file formats are basically *containers* of:\n",
    "1. Tables + Metadata\n",
    "2. N-dimensional Images + Metadata\n",
    "3. *Optional*: Hierarchical relations\n",
    "\n",
    "## Our container has\n",
    "* A `primary` astropy image (NDData) \n",
    "* A `images` list of astropy n-dimensional images (NDData) \n",
    "* A `tables` list of astropy tables (Table)\n",
    "\n",
    "Let us load the Orion methanol line\n"
   ]
  },
  {
   "cell_type": "code",
   "execution_count": null,
   "metadata": {
    "collapsed": false,
    "scrolled": true
   },
   "outputs": [],
   "source": [
    "binpath = '../bindata/fits/cubes/'\n",
    "\n",
    "# Data from ALMA science verification \n",
    "orion_path = binpath + 'Orion.methanol.cbc.contsub.image.fits'\n",
    "container = load_fits(orion_path)\n",
    "orion     = container.primary"
   ]
  },
  {
   "cell_type": "code",
   "execution_count": null,
   "metadata": {
    "collapsed": false
   },
   "outputs": [],
   "source": [
    "# Check Data"
   ]
  },
  {
   "cell_type": "markdown",
   "metadata": {},
   "source": [
    "# Visualization\n",
    "\n",
    "**Goal**: Try to easily *preview* data, not to make paper-ready images.\n",
    "\n",
    "## The Visualize Function\n",
    "\n",
    "The function `visualize()` use the *best effort* approach to visualize almost any data, from 1D to 3D."
   ]
  },
  {
   "cell_type": "code",
   "execution_count": null,
   "metadata": {
    "collapsed": false
   },
   "outputs": [],
   "source": [
    "# This import should be removed in some point\n",
    "from acalib.io.graph import *\n",
    "#visualize(orion)"
   ]
  },
  {
   "cell_type": "markdown",
   "metadata": {},
   "source": [
    "### 3D contours"
   ]
  },
  {
   "cell_type": "code",
   "execution_count": null,
   "metadata": {
    "collapsed": false
   },
   "outputs": [],
   "source": [
    "#visualize(orion,contour=True)"
   ]
  },
  {
   "cell_type": "markdown",
   "metadata": {},
   "source": [
    "### 2D Visualization\n",
    "Here we compute the zeroth moment using the `moment0()` function:\n",
    "$$ M_0 = \\sum_i I_i $$\n",
    "were $I_i$ is the image at the $i$'th frequency, and visualize the result. We can also add contours to it."
   ]
  },
  {
   "cell_type": "code",
   "execution_count": null,
   "metadata": {
    "collapsed": false
   },
   "outputs": [],
   "source": [
    "m0 = moment0(orion)\n",
    "print \"ORIGINAL\"\n",
    "visualize(m0)\n",
    "print \"ORIGINAL + CONTOUR\"\n",
    "visualize(m0,contour=True)"
   ]
  },
  {
   "cell_type": "markdown",
   "metadata": {},
   "source": [
    "## Missing data\n",
    "\n",
    "ACALib support images with masks.\n",
    "Let us also load an observation of the M100 galaxy in Band 3"
   ]
  },
  {
   "cell_type": "code",
   "execution_count": null,
   "metadata": {
    "collapsed": false
   },
   "outputs": [],
   "source": [
    "m100_path  = binpath + 'M100line.image.fits'\n",
    "container = load_fits(m100_path)\n",
    "M100      = container.primary\n",
    "print \"MOMENT 0\"\n",
    "visualize(moment0(M100))\n",
    "#visualize(M100)"
   ]
  },
  {
   "cell_type": "markdown",
   "metadata": {},
   "source": [
    "## Spectrum visualization\n",
    "**Warning**: this functionality is very experimental yet!\n",
    "\n",
    "Here we compute an spectrum using the `spectra()` function, giving the position and aperture in *pixels*"
   ]
  },
  {
   "cell_type": "code",
   "execution_count": null,
   "metadata": {
    "collapsed": false,
    "scrolled": true
   },
   "outputs": [],
   "source": [
    "M100.wcs.celestial.printwcs()"
   ]
  },
  {
   "cell_type": "code",
   "execution_count": null,
   "metadata": {
    "collapsed": false
   },
   "outputs": [],
   "source": [
    "pos       = [301,301]*u.pix\n",
    "ape       = 10*u.pix\n",
    "m100_line = spectra(M100,position=pos,aperture=ape)\n",
    "visualize(m100_line)"
   ]
  },
  {
   "cell_type": "markdown",
   "metadata": {},
   "source": [
    "# Data Manipulation\n",
    "\n",
    "## Other Moments\n",
    "* We can use `moment1()` to compute:\n",
    "$$M_1 = \\frac{\\sum_i I_i v_i}{M_0} $$\n",
    "were $v_i$ is the velocity value at the $i$'th frequency (given a rest frequency).\n",
    "* We can use `moment2()` to compute:\n",
    "$$M_2 = \\sqrt{\\frac{\\sum_i I_i (v_i - M_1)^2}{M_0}} $$\n"
   ]
  },
  {
   "cell_type": "code",
   "execution_count": null,
   "metadata": {
    "collapsed": false,
    "scrolled": false
   },
   "outputs": [],
   "source": [
    "print \"MOMENT 1\"\n",
    "visualize(moment1(orion))\n",
    "print \"MOMENT 2\"\n",
    "visualize(moment2(orion))"
   ]
  },
  {
   "cell_type": "markdown",
   "metadata": {},
   "source": [
    "## Simple Denoising\n",
    "\n",
    "We can compute the RMS using `estimate_rms()` and denoise using function `denoise()`. We can visualize the moments again."
   ]
  },
  {
   "cell_type": "code",
   "execution_count": null,
   "metadata": {
    "collapsed": false
   },
   "outputs": [],
   "source": [
    "rms       = estimate_rms(orion)\n",
    "den_orion = denoise(orion,threshold=1.5*rms)\n",
    "print \"MOMENT 0\"\n",
    "visualize(moment0(den_orion))\n",
    "print \"MOMENT 1\"\n",
    "visualize(moment1(den_orion))\n",
    "print \"MOMENT 2\"\n",
    "visualize(moment2(den_orion))"
   ]
  },
  {
   "cell_type": "markdown",
   "metadata": {},
   "source": [
    "## The M100 example\n",
    "With and without contours"
   ]
  },
  {
   "cell_type": "code",
   "execution_count": null,
   "metadata": {
    "collapsed": false
   },
   "outputs": [],
   "source": [
    "print \"ORIGINAL\"\n",
    "visualize(moment0(M100))\n",
    "print \"ORIGINAL + CONTOUR\"\n",
    "visualize(moment0(M100),contour=True)\n",
    "rms  = estimate_rms(M100)\n",
    "den_M100 = denoise(M100,threshold=2.0*rms)\n",
    "print \"DENOISED + CONTOUR\"\n",
    "visualize(moment0(den_M100),contour=True)\n",
    "#visualize(den_M100,contour=True)\n"
   ]
  },
  {
   "cell_type": "markdown",
   "metadata": {},
   "source": [
    "## Functions parameters\n",
    "Functions have several default parameters, but they can be changed.\n",
    "For example, the WCS includes a rest frequency to compute the radial velocity.\n",
    "We can change this for the first moment."
   ]
  },
  {
   "cell_type": "code",
   "execution_count": null,
   "metadata": {
    "collapsed": false,
    "scrolled": false
   },
   "outputs": [],
   "source": [
    "rfreq = den_M100.wcs.wcs.restfrq*u.Hz\n",
    "print \"MOMENT 1 with rest frequency\",rfreq.to(u.GHz)\n",
    "visualize(moment1(den_M100))\n",
    "myrf=114.65*u.GHz\n",
    "print \"MOMENT 1 with rest frequency\",myrf\n",
    "visualize(moment1(den_M100,restfrq=myrf))"
   ]
  },
  {
   "cell_type": "markdown",
   "metadata": {},
   "source": [
    "## Cut and Save\n",
    "We can extract a subcube easily"
   ]
  },
  {
   "cell_type": "code",
   "execution_count": null,
   "metadata": {
    "collapsed": false
   },
   "outputs": [],
   "source": [
    "M100.wcs.printwcs()"
   ]
  },
  {
   "cell_type": "code",
   "execution_count": null,
   "metadata": {
    "collapsed": false
   },
   "outputs": [],
   "source": [
    "lb=[5,250,250]\n",
    "ub=[35,350,350]\n",
    "M100cut = cut(den_M100,lower=lb,upper=ub)\n",
    "visualize(moment0(M100cut))\n",
    "visualize(M100cut,contour=True)"
   ]
  },
  {
   "cell_type": "code",
   "execution_count": null,
   "metadata": {
    "collapsed": true
   },
   "outputs": [],
   "source": [
    "new_cont = Container()\n",
    "new_cont.primary=M100cut\n",
    "new_cont.save_fits(\"M100cut.fits\")"
   ]
  },
  {
   "cell_type": "code",
   "execution_count": null,
   "metadata": {
    "collapsed": false
   },
   "outputs": [],
   "source": [
    "other_cont = load_fits(\"M100cut.fits\")\n",
    "element  = other_cont.primary\n",
    "#print o_cut.wcs.wcs\n",
    "elementM0   = moment0(element)\n",
    "visualize(elementM0)"
   ]
  },
  {
   "cell_type": "markdown",
   "metadata": {
    "collapsed": true
   },
   "source": [
    "# Synthetic Data\n",
    "## Methanol Cloud"
   ]
  },
  {
   "cell_type": "code",
   "execution_count": null,
   "metadata": {
    "collapsed": false
   },
   "outputs": [],
   "source": [
    "from acalib.synthetic import *\n",
    "\n",
    "center   = [186.3,15.3]*u.deg\n",
    "temp     = 300*u.K\n",
    "rad_vel  = 150*u.km/u.s\n",
    "\n",
    "univ=Universe()\n",
    "univ.create_source('Methcloud',center)\n",
    "\n",
    "# Defines a new component\n",
    "mol_list = {'33SO2':[1.0,10.0]* u.Jy/u.beam}\n",
    "offset   = [0,0]*u.arcsec\n",
    "std      = [10,7]*u.arcsec\n",
    "angle    = np.pi/9.*u.rad\n",
    "fwhm     = 30*u.km/u.s\n",
    "gradient = [0.0,0.0]*u.km/(u.s*u.arcsec)\n",
    "\n",
    "# Create Component\n",
    "model=GaussianIMC(mol_list,temp,offset,std,angle,fwhm,gradient)\n",
    "model.set_velocity(rad_vel)\n",
    "univ.add_component('Methcloud',model)\n"
   ]
  },
  {
   "cell_type": "code",
   "execution_count": null,
   "metadata": {
    "collapsed": false,
    "scrolled": true
   },
   "outputs": [],
   "source": [
    "# Create Cube\n",
    "ang_res = [3.0,3.0]*u.arcsec\n",
    "fov     = [200,200]*u.arcsec\n",
    "freq    = 299.898*u.GHz\n",
    "spe_res = 0.002*u.GHz\n",
    "bw      = 0.2*u.GHz\n",
    "noise   = 0.001*u.Jy/u.beam\n",
    "\n",
    "cont = univ.gen_cube(center, ang_res, fov, freq, spe_res, bw, noise,noise/50.0)"
   ]
  },
  {
   "cell_type": "markdown",
   "metadata": {},
   "source": [
    "## Visualize the Gaussian"
   ]
  },
  {
   "cell_type": "code",
   "execution_count": null,
   "metadata": {
    "collapsed": false
   },
   "outputs": [],
   "source": [
    "synthetic=cont.primary\n",
    "print \"ORIGINAL M0\"\n",
    "visualize(moment0(synthetic))\n",
    "#visualize(synthetic)"
   ]
  },
  {
   "cell_type": "code",
   "execution_count": null,
   "metadata": {
    "collapsed": false
   },
   "outputs": [],
   "source": [
    "# Defines a new component\n",
    "mol_list = {'33SO2': [0.5,5.0]* u.Jy/u.beam}\n",
    "offset   = [20,-20]*u.arcsec\n",
    "std      = [4,12]*u.arcsec\n",
    "angle    = np.pi/4.*u.rad\n",
    "fwhm     = 10*u.km/u.s\n",
    "gradient = [-1.0,1.0]*u.km/(u.s*u.arcsec)\n",
    "# Create Component\n",
    "model=GaussianIMC(mol_list,temp,offset,std,angle,fwhm,gradient)\n",
    "model.set_velocity(rad_vel)\n",
    "univ.add_component('Methcloud',model)\n",
    "\n",
    "# Defines a new component\n",
    "mol_list = {'33SO2':[0.5,8.0]* u.Jy/u.beam}\n",
    "offset   = [-20,20]*u.arcsec\n",
    "std      = [4,12]*u.arcsec\n",
    "angle    = np.pi/6.*u.rad\n",
    "fwhm     = 10*u.km/u.s\n",
    "gradient = [1.0,-1.0]*u.km/(u.s*u.arcsec)\n",
    "\n",
    "# Create Component\n",
    "model=GaussianIMC(mol_list,temp,offset,std,angle,fwhm,gradient)\n",
    "model.set_velocity(rad_vel)\n",
    "univ.add_component('Methcloud',model)\n"
   ]
  },
  {
   "cell_type": "code",
   "execution_count": null,
   "metadata": {
    "collapsed": false,
    "scrolled": true
   },
   "outputs": [],
   "source": [
    "# Create Cube\n",
    "ang_res = [3.0,3.0]*u.arcsec\n",
    "fov     = [200,200]*u.arcsec\n",
    "freq    = 299.898*u.GHz\n",
    "spe_res = 0.002*u.GHz\n",
    "bw      = 0.2*u.GHz\n",
    "noise   = 0.001*u.Jy/u.beam\n",
    "\n",
    "cont = univ.gen_cube(center, ang_res, fov, freq, spe_res, bw, noise,noise/50.0)"
   ]
  },
  {
   "cell_type": "markdown",
   "metadata": {},
   "source": [
    "## Denoise and Visualize"
   ]
  },
  {
   "cell_type": "code",
   "execution_count": null,
   "metadata": {
    "collapsed": false,
    "scrolled": false
   },
   "outputs": [],
   "source": [
    "synthetic=cont.primary\n",
    "print \"ORIGINAL M0\"\n",
    "visualize(moment0(synthetic))\n",
    "syden=denoise(synthetic,threshold=2.0*estimate_rms(synthetic))\n",
    "print \"DENOISED M0\"\n",
    "visualize(moment0(syden))\n",
    "print \"DENOISED M1\"\n",
    "visualize(moment1(syden))\n",
    "print \"DENOISED M2\"\n",
    "visualize(moment2(syden))\n",
    "#visualize(syden,contour=True)"
   ]
  },
  {
   "cell_type": "markdown",
   "metadata": {},
   "source": [
    "## Metadata"
   ]
  },
  {
   "cell_type": "code",
   "execution_count": null,
   "metadata": {
    "collapsed": false
   },
   "outputs": [],
   "source": [
    "cont.tables[0]"
   ]
  },
  {
   "cell_type": "code",
   "execution_count": null,
   "metadata": {
    "collapsed": false
   },
   "outputs": [],
   "source": [
    "cont.tables[2]"
   ]
  },
  {
   "cell_type": "markdown",
   "metadata": {
    "collapsed": true
   },
   "source": [
    "# Algorithms\n",
    "\n",
    "## ROI Detection"
   ]
  },
  {
   "cell_type": "code",
   "execution_count": null,
   "metadata": {
    "collapsed": true
   },
   "outputs": [],
   "source": []
  },
  {
   "cell_type": "markdown",
   "metadata": {},
   "source": [
    "## Clump Detection (CUPID)"
   ]
  },
  {
   "cell_type": "code",
   "execution_count": null,
   "metadata": {
    "collapsed": true
   },
   "outputs": [],
   "source": []
  },
  {
   "cell_type": "markdown",
   "metadata": {},
   "source": [
    "# What Next?\n",
    "\n",
    "## More libraries!\n",
    "* *2D imaging*     : Glue, AplPy ?\n",
    "* *Dendograms*     : Astrodendro\n",
    "* *Radioastronomy* : CASA (casacore)\n",
    "* *(put your library here)*"
   ]
  },
  {
   "cell_type": "code",
   "execution_count": null,
   "metadata": {
    "collapsed": true
   },
   "outputs": [],
   "source": []
  }
 ],
 "metadata": {
  "anaconda-cloud": {},
  "kernelspec": {
   "display_name": "Python 2",
   "language": "python",
   "name": "python2"
  },
  "language_info": {
   "codemirror_mode": {
    "name": "ipython",
    "version": 2
   },
   "file_extension": ".py",
   "mimetype": "text/x-python",
   "name": "python",
   "nbconvert_exporter": "python",
   "pygments_lexer": "ipython2",
   "version": "2.7.11+"
  }
 },
 "nbformat": 4,
 "nbformat_minor": 0
}
